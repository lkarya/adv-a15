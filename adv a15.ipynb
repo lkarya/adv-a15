{
 "cells": [
  {
   "cell_type": "code",
   "execution_count": null,
   "id": "33a4634b",
   "metadata": {},
   "outputs": [],
   "source": [
    "# What are the new features added in Python 3.8 version?\n",
    "\n",
    "Python 3.8 allows the use of the above-discussed assignment operator and equal sign (=) inside the f-strings. \n",
    "For example, say we have two variables “a” and “b”, and we want to print “a + b” along with the result. \n",
    "Here we can use f-strings=."
   ]
  },
  {
   "cell_type": "code",
   "execution_count": null,
   "id": "e6ab1fef",
   "metadata": {},
   "outputs": [],
   "source": [
    "# What is monkey patching in Python?\n",
    "\n",
    "In Python, the term monkey patch refers to dynamic (or run-time) modifications of a class or module. \n",
    "In Python, we can actually change the behavior of code at run-time."
   ]
  },
  {
   "cell_type": "code",
   "execution_count": null,
   "id": "73b2c5c3",
   "metadata": {},
   "outputs": [],
   "source": [
    "# What is the difference between a shallow copy and deep copy?\n",
    "\n",
    "A shallow copy constructs a new compound object and then (to the extent possible) inserts references into it to the objects found in the original. \n",
    "A deep copy constructs a new compound object and then, recursively, inserts copies into it of the objects found in the original."
   ]
  }
 ],
 "metadata": {
  "kernelspec": {
   "display_name": "Python 3 (ipykernel)",
   "language": "python",
   "name": "python3"
  },
  "language_info": {
   "codemirror_mode": {
    "name": "ipython",
    "version": 3
   },
   "file_extension": ".py",
   "mimetype": "text/x-python",
   "name": "python",
   "nbconvert_exporter": "python",
   "pygments_lexer": "ipython3",
   "version": "3.9.7"
  }
 },
 "nbformat": 4,
 "nbformat_minor": 5
}
